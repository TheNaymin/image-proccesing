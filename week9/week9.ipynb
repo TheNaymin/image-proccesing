{
 "cells": [
  {
   "cell_type": "code",
   "execution_count": 1,
   "metadata": {},
   "outputs": [
    {
     "data": {
      "text/plain": [
       "-1"
      ]
     },
     "execution_count": 1,
     "metadata": {},
     "output_type": "execute_result"
    }
   ],
   "source": [
    "import cv2\n",
    "import numpy as np\n",
    "img = cv2.imread(\"example.png\",0)\n",
    "kernel= np.ones((5,5),np.uint8)\n",
    "\n",
    "img_erosion= cv2.erode(img,kernel, iterations=1)\n",
    "img_dilation= cv2.dilate(img,kernel, iterations=1)\n",
    "\n",
    "cv2.imshow(\"Original\",img)\n",
    "cv2.imshow(\"Erosion\",img_erosion)\n",
    "cv2.imshow(\"Dilation\",img_dilation)\n",
    "cv2.waitKey(0)"
   ]
  },
  {
   "cell_type": "code",
   "execution_count": 13,
   "metadata": {},
   "outputs": [
    {
     "data": {
      "text/plain": [
       "-1"
      ]
     },
     "execution_count": 13,
     "metadata": {},
     "output_type": "execute_result"
    }
   ],
   "source": [
    "import cv2\n",
    "import numpy as np\n",
    "img = cv2.imread(\"example2.png\",0)\n",
    "\n",
    "cv2.imshow(\"Original\", img)\n",
    "cv2.waitKey(0)\n",
    "\n",
    "kernel= np.ones((5,5),np.uint8)\n",
    "whiteNoise= np.random.randint(0,2,size=img.shape[:2])\n",
    "whiteNoise=whiteNoise*255\n",
    "noise_img= whiteNoise + img\n",
    "\n",
    "\n",
    "\n",
    "opening = cv2.morphologyEx(noise_img.astype(np.float32),cv2.MORPH_OPEN,kernel)\n",
    "cv2.imshow(\"Opening\",opening)\n",
    "cv2.waitKey(0)"
   ]
  },
  {
   "cell_type": "code",
   "execution_count": 15,
   "metadata": {},
   "outputs": [
    {
     "data": {
      "text/plain": [
       "-1"
      ]
     },
     "execution_count": 15,
     "metadata": {},
     "output_type": "execute_result"
    }
   ],
   "source": [
    "import cv2\n",
    "import numpy as np\n",
    "img = cv2.imread(\"example2.png\",0)\n",
    "\n",
    "cv2.imshow(\"Original\", img)\n",
    "cv2.waitKey(0)\n",
    "\n",
    "kernel= np.ones((5,5),np.uint8)\n",
    "blackNoise= np.random.randint(0,2,size=img.shape[:2])\n",
    "blackNoise=blackNoise* -255\n",
    "noise_img= blackNoise + img\n",
    "noise_img[noise_img<=-245] = 0\n",
    "\n",
    "\n",
    "\n",
    "opening = cv2.morphologyEx(noise_img.astype(np.float32),cv2.MORPH_CLOSE,kernel)\n",
    "cv2.imshow(\"Opening\",opening)\n",
    "cv2.waitKey(0)"
   ]
  }
 ],
 "metadata": {
  "kernelspec": {
   "display_name": "Python 3.10.8 64-bit",
   "language": "python",
   "name": "python3"
  },
  "language_info": {
   "codemirror_mode": {
    "name": "ipython",
    "version": 3
   },
   "file_extension": ".py",
   "mimetype": "text/x-python",
   "name": "python",
   "nbconvert_exporter": "python",
   "pygments_lexer": "ipython3",
   "version": "3.10.8"
  },
  "orig_nbformat": 4,
  "vscode": {
   "interpreter": {
    "hash": "cf46e7152cbc9edb6b3bb7f4bed4ad5fe7ae8b77f2bad5c4e2915d7a17684b39"
   }
  }
 },
 "nbformat": 4,
 "nbformat_minor": 2
}
