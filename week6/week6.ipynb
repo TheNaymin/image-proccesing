{
 "cells": [
  {
   "cell_type": "code",
   "execution_count": 2,
   "metadata": {},
   "outputs": [],
   "source": [
    "import cv2 as cv\n",
    "import numpy as np\n",
    "\n",
    "image=cv.imread(\"example.png\")\n",
    "\n",
    "kernel1=np.ones((5,5),np.float32)/30\n",
    "\n",
    "img= cv.filter2D(src=image,ddepth=-1,kernel=kernel1)\n",
    "\n",
    "cv.imshow(\"Original\",image)\n",
    "cv.imshow(\"Blured\",img)\n",
    "cv.imwrite(\"result.png\",img) #Saved output\n",
    "\n",
    "cv.waitKey()\n",
    "cv.destroyAllWindows()"
   ]
  },
  {
   "cell_type": "code",
   "execution_count": 4,
   "metadata": {},
   "outputs": [],
   "source": [
    "#Smoothing Filter Mask\n",
    "import cv2 as cv\n",
    "import numpy as np\n",
    "\n",
    "path= \"example.png\"\n",
    "\n",
    "img=cv.imread(path)\n",
    "\n",
    "im1=cv.blur(img,(5,5))\n",
    "im2=cv.boxFilter(img,-1,(2,2),normalize=True)\n",
    "\n",
    "cv.imshow(\"Results\", np.hstack((im1,im2)))\n",
    "cv.waitKey()\n",
    "cv.destroyAllWindows()\n"
   ]
  },
  {
   "cell_type": "code",
   "execution_count": null,
   "metadata": {},
   "outputs": [],
   "source": [
    "import cv2 as cv\n",
    "import numpy as np\n",
    "img=cv.imread(\"brain.png\")\n",
    "median=cv.medianBlur(img,5)\n",
    "compare= np.concatenate((img,median),axis=1)\n",
    "cv.imshow(\"Results\",compare)\n",
    "cv.waitKey()\n",
    "cv.destroyAllWindows"
   ]
  }
 ],
 "metadata": {
  "kernelspec": {
   "display_name": "Python 3.10.8 64-bit",
   "language": "python",
   "name": "python3"
  },
  "language_info": {
   "codemirror_mode": {
    "name": "ipython",
    "version": 3
   },
   "file_extension": ".py",
   "mimetype": "text/x-python",
   "name": "python",
   "nbconvert_exporter": "python",
   "pygments_lexer": "ipython3",
   "version": "3.10.8"
  },
  "orig_nbformat": 4,
  "vscode": {
   "interpreter": {
    "hash": "cf46e7152cbc9edb6b3bb7f4bed4ad5fe7ae8b77f2bad5c4e2915d7a17684b39"
   }
  }
 },
 "nbformat": 4,
 "nbformat_minor": 2
}
