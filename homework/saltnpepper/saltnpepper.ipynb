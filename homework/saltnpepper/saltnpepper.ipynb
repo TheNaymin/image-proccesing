{
 "cells": [
  {
   "cell_type": "code",
   "execution_count": 1,
   "metadata": {},
   "outputs": [],
   "source": [
    "import cv2\n",
    "import numpy as np\n",
    "img = cv2.imread('exercise1.png',0)\n",
    "img = img/255\n",
    "cv2.imshow('Original Image', img)\n",
    "cv2.waitKey(0)\n",
    "cv2.destroyAllWindows()\n",
    "x,y = img.shape\n",
    "g = np.zeros((x,y), dtype=np.float32)\n",
    "pepper = 0.1\n",
    "salt = 0.95  \n",
    "for i in range(x):\n",
    "    for j in range(y):\n",
    "        rdn = np.random.random()\n",
    "        if rdn < pepper:\n",
    "            g[i][j] = 0\n",
    "        elif rdn > salt:\n",
    "            g[i][j] = 1\n",
    "        else:\n",
    "            g[i][j] = img[i][j]\n",
    "cv2.imshow('S n P Image', g)\n",
    "cv2.waitKey(0)\n",
    "cv2.destroyAllWindows()\n"
   ]
  }
 ],
 "metadata": {
  "kernelspec": {
   "display_name": "Python 3.10.8 64-bit",
   "language": "python",
   "name": "python3"
  },
  "language_info": {
   "codemirror_mode": {
    "name": "ipython",
    "version": 3
   },
   "file_extension": ".py",
   "mimetype": "text/x-python",
   "name": "python",
   "nbconvert_exporter": "python",
   "pygments_lexer": "ipython3",
   "version": "3.10.8"
  },
  "orig_nbformat": 4,
  "vscode": {
   "interpreter": {
    "hash": "cf46e7152cbc9edb6b3bb7f4bed4ad5fe7ae8b77f2bad5c4e2915d7a17684b39"
   }
  }
 },
 "nbformat": 4,
 "nbformat_minor": 2
}
