{
 "cells": [
  {
   "cell_type": "code",
   "execution_count": 1,
   "metadata": {},
   "outputs": [
    {
     "name": "stderr",
     "output_type": "stream",
     "text": [
      "C:\\Users\\numan\\AppData\\Local\\Temp\\ipykernel_16288\\1032231646.py:9: RuntimeWarning: divide by zero encountered in log\n",
      "  log_image = c * (np.log(image + 1))\n"
     ]
    },
    {
     "data": {
      "text/plain": [
       "True"
      ]
     },
     "execution_count": 1,
     "metadata": {},
     "output_type": "execute_result"
    }
   ],
   "source": [
    "import cv2\n",
    "import numpy as np\n",
    "import matplotlib.pyplot as plt\n",
    "\n",
    "image = cv2.imread('exercise1.png')\n",
    "   \n",
    "\n",
    "c = 255 / np.log(1 + np.max(image))\n",
    "log_image = c * (np.log(image + 1))\n",
    "\n",
    "log_image = np.array(log_image, dtype = np.uint8)\n",
    "   \n",
    "cv2.imwrite('log_image.jpg', log_image)"
   ]
  }
 ],
 "metadata": {
  "kernelspec": {
   "display_name": "Python 3.10.8 64-bit",
   "language": "python",
   "name": "python3"
  },
  "language_info": {
   "codemirror_mode": {
    "name": "ipython",
    "version": 3
   },
   "file_extension": ".py",
   "mimetype": "text/x-python",
   "name": "python",
   "nbconvert_exporter": "python",
   "pygments_lexer": "ipython3",
   "version": "3.10.8"
  },
  "orig_nbformat": 4,
  "vscode": {
   "interpreter": {
    "hash": "cf46e7152cbc9edb6b3bb7f4bed4ad5fe7ae8b77f2bad5c4e2915d7a17684b39"
   }
  }
 },
 "nbformat": 4,
 "nbformat_minor": 2
}
