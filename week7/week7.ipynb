{
 "cells": [
  {
   "cell_type": "code",
   "execution_count": null,
   "metadata": {},
   "outputs": [],
   "source": [
    "import cv2\n",
    "import numpy as np\n",
    "img = cv2.imread(\"exercise1.png\")\n",
    "cv2.imshow(\"Original\",img)\n",
    "def gaussian_noise(image):\n",
    " row,col,ch = image.shape\n",
    " mean = 0\n",
    " var = 0.05\n",
    " sigma = var**0.5\n",
    "\n",
    " gauss = np.random.normal(mean,sigma,(row,col,ch))\n",
    " gauss = gauss.reshape(row,col,ch)\n",
    " noisy = image + gauss\n",
    " return noisy\n",
    "img = cv2.imread(\"exercise1.png\")\n",
    "img = img/255\n",
    "noise_img = gaussian_noise(img)\n",
    "cv2.imshow(\"Gaussian Noise\",noise_img)\n",
    "cv2.waitKey(0)"
   ]
  },
  {
   "cell_type": "code",
   "execution_count": 44,
   "metadata": {},
   "outputs": [
    {
     "data": {
      "text/plain": [
       "-1"
      ]
     },
     "execution_count": 44,
     "metadata": {},
     "output_type": "execute_result"
    }
   ],
   "source": [
    "import cv2\n",
    "import numpy as np\n",
    "\n",
    "def saltPepperNoise(image):\n",
    " row,col,ch = image.shape\n",
    " s_vs_p = 0.5\n",
    " amount = 0.04\n",
    " noisy = np.copy(image)\n",
    "\n",
    " num_salt = int(np.ceil(amount*image.size*s_vs_p))\n",
    " corrds = [np.random.randint(0,i-1,num_salt) for i in image.shape]\n",
    " noisy[corrds] = 1\n",
    "\n",
    " num_pep = int(np.ceil(amount*image.size*s_vs_p))\n",
    " corrds = [np.random.randint(0,i-1,num_pep) for i in image.shape]\n",
    " noisy[corrds] = 0\n",
    "\n",
    " return noisy\n",
    "\n",
    "img = cv2.imread(\"exercise2.png\")\n",
    "img = img/255\n",
    "noise_img = saltPepperNoise(img)\n",
    "cv2.imshow(\"Salt n Pepper\",noise_img)\n",
    "cv2.waitKey(0)"
   ]
  }
 ],
 "metadata": {
  "kernelspec": {
   "display_name": "Python 3.10.8 64-bit",
   "language": "python",
   "name": "python3"
  },
  "language_info": {
   "codemirror_mode": {
    "name": "ipython",
    "version": 3
   },
   "file_extension": ".py",
   "mimetype": "text/x-python",
   "name": "python",
   "nbconvert_exporter": "python",
   "pygments_lexer": "ipython3",
   "version": "3.10.8"
  },
  "orig_nbformat": 4,
  "vscode": {
   "interpreter": {
    "hash": "cf46e7152cbc9edb6b3bb7f4bed4ad5fe7ae8b77f2bad5c4e2915d7a17684b39"
   }
  }
 },
 "nbformat": 4,
 "nbformat_minor": 2
}
