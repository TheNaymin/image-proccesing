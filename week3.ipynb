{
 "cells": [
  {
   "cell_type": "code",
   "execution_count": 2,
   "id": "5ecaa35b",
   "metadata": {},
   "outputs": [
    {
     "name": "stdout",
     "output_type": "stream",
     "text": [
      "[[1 2 3]\n",
      " [3 4 5]]\n"
     ]
    }
   ],
   "source": [
    "import numpy as np\n",
    "A=np.array([[1,2,3],[3,4,5]])\n",
    "print(A)"
   ]
  },
  {
   "cell_type": "code",
   "execution_count": 3,
   "id": "e02b5cc0",
   "metadata": {
    "scrolled": true
   },
   "outputs": [
    {
     "name": "stdout",
     "output_type": "stream",
     "text": [
      "[[0. 0. 0.]\n",
      " [0. 0. 0.]]\n"
     ]
    }
   ],
   "source": [
    "array =np.zeros((2,3))\n",
    "print(array)\n"
   ]
  },
  {
   "cell_type": "code",
   "execution_count": 16,
   "id": "5959e270",
   "metadata": {
    "scrolled": true
   },
   "outputs": [
    {
     "name": "stdout",
     "output_type": "stream",
     "text": [
      "1 Series=  [[1. 1. 1. 1. 1.]]\n",
      "Random Array=  [[-0.75805565 -1.37282469  0.88005914 -1.06664676  1.86644023]\n",
      " [-1.56429952 -0.04544795 -2.11905505 -0.78590842  0.14129721]\n",
      " [-0.77748991  0.30241518  0.57774699  0.17900536 -1.34940452]]\n",
      "sin 90= 1.0\n"
     ]
    }
   ],
   "source": [
    "import numpy as np\n",
    "import math\n",
    "array =np.ones((1,5)) #1 Serisi\n",
    "print(\"1 Series= \",array)\n",
    "a2=np.random.randn(3,5) #Random\n",
    "print(\"Random Array= \",a2)\n",
    "\n",
    "sin90=math.sin(math.radians(90)) #sin90 \n",
    "print(\"sin 90=\",sin90)"
   ]
  },
  {
   "cell_type": "code",
   "execution_count": 17,
   "id": "26e823a3",
   "metadata": {},
   "outputs": [
    {
     "name": "stdout",
     "output_type": "stream",
     "text": [
      "Odd: 1\n",
      "Odd: 3\n",
      "Odd: 5\n",
      "Odd: 7\n",
      "Odd: 9\n"
     ]
    }
   ],
   "source": [
    "#While Func ODD finder\n",
    "a = 1\n",
    "while a < 10:\n",
    "    if a % 2 == 0:\n",
    "        a += 1\n",
    "        continue\n",
    "    print(\"Odd:\", a)\n",
    "    a += 1"
   ]
  },
  {
   "cell_type": "code",
   "execution_count": 6,
   "id": "bc785b87",
   "metadata": {},
   "outputs": [
    {
     "name": "stdout",
     "output_type": "stream",
     "text": [
      "Select version (1-3)\n",
      "5\n",
      "You select wrong version\n"
     ]
    }
   ],
   "source": [
    "#if-else example\n",
    "\n",
    "print(\"Select version (1-3)\")\n",
    "\n",
    "version=input()\n",
    "\n",
    "if version==\"1\":\n",
    "    print(\"Version 1.0 activated\")\n",
    "elif version==\"2\":\n",
    "    print(\"Version 2.0 activated\")\n",
    "elif version==\"3\":\n",
    "    print(\"Version 3.0 activated\")\n",
    "else:\n",
    "    print(\"You select wrong version\")"
   ]
  },
  {
   "cell_type": "code",
   "execution_count": 10,
   "id": "5df00418",
   "metadata": {},
   "outputs": [
    {
     "name": "stdout",
     "output_type": "stream",
     "text": [
      "You failed\n"
     ]
    }
   ],
   "source": [
    "def passOrFail(x):\n",
    "    if x < 50:\n",
    "        print('You failed')\n",
    "    elif x>100:\n",
    "        print(\"you entered wrong note\")\n",
    "    else:\n",
    "        print(\"You passed\")\n",
    "        \n",
    "passOrFail(35)"
   ]
  },
  {
   "cell_type": "code",
   "execution_count": null,
   "id": "a92579c2",
   "metadata": {},
   "outputs": [],
   "source": []
  }
 ],
 "metadata": {
  "kernelspec": {
   "display_name": "Python 3 (ipykernel)",
   "language": "python",
   "name": "python3"
  },
  "language_info": {
   "codemirror_mode": {
    "name": "ipython",
    "version": 3
   },
   "file_extension": ".py",
   "mimetype": "text/x-python",
   "name": "python",
   "nbconvert_exporter": "python",
   "pygments_lexer": "ipython3",
   "version": "3.9.12"
  }
 },
 "nbformat": 4,
 "nbformat_minor": 5
}
